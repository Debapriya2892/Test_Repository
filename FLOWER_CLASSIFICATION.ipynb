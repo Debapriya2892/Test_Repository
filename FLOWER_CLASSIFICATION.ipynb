{
  "cells": [
    {
      "cell_type": "markdown",
      "metadata": {
        "id": "view-in-github",
        "colab_type": "text"
      },
      "source": [
        "<a href=\"https://colab.research.google.com/github/Debapriya2892/Test_Repository/blob/main/FLOWER_CLASSIFICATION.ipynb\" target=\"_parent\"><img src=\"https://colab.research.google.com/assets/colab-badge.svg\" alt=\"Open In Colab\"/></a>"
      ]
    },
    {
      "cell_type": "code",
      "execution_count": 2,
      "metadata": {
        "colab": {
          "base_uri": "https://localhost:8080/"
        },
        "id": "nT3wWHP9uGs6",
        "outputId": "13afbf7a-26fc-4389-d782-f30c4443fc2d"
      },
      "outputs": [
        {
          "output_type": "stream",
          "name": "stdout",
          "text": [
            "Drive already mounted at /content/drive; to attempt to forcibly remount, call drive.mount(\"/content/drive\", force_remount=True).\n"
          ]
        }
      ],
      "source": [
        "from google.colab import drive\n",
        "drive.mount('/content/drive')"
      ]
    },
    {
      "cell_type": "code",
      "execution_count": 3,
      "metadata": {
        "id": "dUN9pDGNuhDB"
      },
      "outputs": [],
      "source": [
        "import numpy as np\n",
        "import matplotlib.pyplot as plt\n",
        "import keras\n",
        "from keras.layers import Dense, Conv2D, MaxPool2D, Dropout, Flatten\n",
        "from keras.models import Sequential\n",
        "from keras.preprocessing import image"
      ]
    },
    {
      "cell_type": "code",
      "execution_count": 4,
      "metadata": {
        "id": "z6ihOLpXuqzr"
      },
      "outputs": [],
      "source": [
        "train_datagen = image.ImageDataGenerator(rescale=1/255,\n",
        "                                          horizontal_flip=True,\n",
        "                                          zoom_range=0.2, shear_range=0.2,\n",
        "                                         validation_split=0.1)"
      ]
    },
    {
      "cell_type": "code",
      "execution_count": 5,
      "metadata": {
        "colab": {
          "base_uri": "https://localhost:8080/"
        },
        "id": "IXSWZYRpuy4U",
        "outputId": "dcc62917-eede-4631-cc13-16a85eefea0c"
      },
      "outputs": [
        {
          "output_type": "stream",
          "name": "stdout",
          "text": [
            "Found 136 images belonging to 3 classes.\n"
          ]
        }
      ],
      "source": [
        "train_data = train_datagen.flow_from_directory(directory='/content/drive/MyDrive/Colab Notebooks/FLOWER IMAGES',\n",
        "                                          target_size=(256,256), batch_size=16, class_mode='categorical',\n",
        "                                          subset='training')"
      ]
    },
    {
      "cell_type": "code",
      "execution_count": 6,
      "metadata": {
        "colab": {
          "base_uri": "https://localhost:8080/"
        },
        "id": "QKlTvY0NvFD2",
        "outputId": "d55a5832-dbce-494e-cf0f-be01fcd173d4"
      },
      "outputs": [
        {
          "output_type": "execute_result",
          "data": {
            "text/plain": [
              "{'daisy2': 0, 'rose2': 1, 'sunflower2': 2}"
            ]
          },
          "metadata": {},
          "execution_count": 6
        }
      ],
      "source": [
        "train_data.class_indices"
      ]
    },
    {
      "cell_type": "code",
      "execution_count": 7,
      "metadata": {
        "colab": {
          "base_uri": "https://localhost:8080/"
        },
        "id": "oGqExEpvvO1x",
        "outputId": "bcde2c71-b1f5-4040-ccc9-db3377ec9423"
      },
      "outputs": [
        {
          "output_type": "stream",
          "name": "stdout",
          "text": [
            "Found 15 images belonging to 3 classes.\n"
          ]
        }
      ],
      "source": [
        "test_datagen = image.ImageDataGenerator(rescale=1/255, validation_split=0.1)\n",
        "test_data = test_datagen.flow_from_directory(directory='/content/drive/MyDrive/Colab Notebooks/FLOWER IMAGES',\n",
        "                                          target_size=(256,256), batch_size=16, class_mode='categorical',\n",
        "                                          subset='validation')"
      ]
    },
    {
      "cell_type": "code",
      "execution_count": 8,
      "metadata": {
        "colab": {
          "base_uri": "https://localhost:8080/"
        },
        "id": "KV5_ewDlvnxf",
        "outputId": "60038d0b-8906-4b5c-85c0-f479a1819014"
      },
      "outputs": [
        {
          "output_type": "stream",
          "name": "stdout",
          "text": [
            "Model: \"sequential\"\n",
            "_________________________________________________________________\n",
            " Layer (type)                Output Shape              Param #   \n",
            "=================================================================\n",
            " conv2d (Conv2D)             (None, 254, 254, 32)      896       \n",
            "                                                                 \n",
            " conv2d_1 (Conv2D)           (None, 252, 252, 64)      18496     \n",
            "                                                                 \n",
            " max_pooling2d (MaxPooling2D  (None, 126, 126, 64)     0         \n",
            " )                                                               \n",
            "                                                                 \n",
            " dropout (Dropout)           (None, 126, 126, 64)      0         \n",
            "                                                                 \n",
            " conv2d_2 (Conv2D)           (None, 124, 124, 64)      36928     \n",
            "                                                                 \n",
            " max_pooling2d_1 (MaxPooling  (None, 62, 62, 64)       0         \n",
            " 2D)                                                             \n",
            "                                                                 \n",
            " dropout_1 (Dropout)         (None, 62, 62, 64)        0         \n",
            "                                                                 \n",
            " conv2d_3 (Conv2D)           (None, 60, 60, 128)       73856     \n",
            "                                                                 \n",
            " max_pooling2d_2 (MaxPooling  (None, 30, 30, 128)      0         \n",
            " 2D)                                                             \n",
            "                                                                 \n",
            " dropout_2 (Dropout)         (None, 30, 30, 128)       0         \n",
            "                                                                 \n",
            " flatten (Flatten)           (None, 115200)            0         \n",
            "                                                                 \n",
            " dense (Dense)               (None, 64)                7372864   \n",
            "                                                                 \n",
            " dropout_3 (Dropout)         (None, 64)                0         \n",
            "                                                                 \n",
            " dense_1 (Dense)             (None, 3)                 195       \n",
            "                                                                 \n",
            "=================================================================\n",
            "Total params: 7,503,235\n",
            "Trainable params: 7,503,235\n",
            "Non-trainable params: 0\n",
            "_________________________________________________________________\n"
          ]
        }
      ],
      "source": [
        "model = Sequential()\n",
        "\n",
        "model.add(Conv2D(filters=32, kernel_size=(3,3), activation='relu', input_shape=(256,256,3)))\n",
        "\n",
        "model.add(Conv2D(filters=64, kernel_size=(3,3), activation='relu'))\n",
        "model.add(MaxPool2D())\n",
        "model.add(Dropout(rate=0.25))\n",
        "\n",
        "model.add(Conv2D(filters=64, kernel_size=(3,3), activation='relu'))\n",
        "model.add(MaxPool2D())\n",
        "model.add(Dropout(rate=0.25))\n",
        "\n",
        "model.add(Conv2D(filters=128, kernel_size=(3,3), activation='relu'))\n",
        "model.add(MaxPool2D())\n",
        "model.add(Dropout(rate=0.25))\n",
        "\n",
        "model.add(Flatten())\n",
        "model.add(Dense(units=64, activation='relu'))\n",
        "model.add(Dropout(rate=0.50))\n",
        "model.add(Dense(units=3, activation='softmax'))\n",
        "\n",
        "model.compile(loss=keras.losses.categorical_crossentropy, optimizer='adam', metrics= ['accuracy'])\n",
        "model.summary()"
      ]
    },
    {
      "cell_type": "code",
      "execution_count": 9,
      "metadata": {
        "colab": {
          "base_uri": "https://localhost:8080/"
        },
        "id": "kFMk72j3v3Hm",
        "outputId": "ead72f3c-2b4c-434f-c7d4-45c24db74e6d"
      },
      "outputs": [
        {
          "output_type": "stream",
          "name": "stdout",
          "text": [
            "Epoch 1/10\n",
            "8/8 [==============================] - ETA: 0s - loss: 2.4716 - accuracy: 0.2333WARNING:tensorflow:Your input ran out of data; interrupting training. Make sure that your dataset or generator can generate at least `steps_per_epoch * epochs` batches (in this case, 2 batches). You may need to use the repeat() function when building your dataset.\n",
            "8/8 [==============================] - 55s 6s/step - loss: 2.4716 - accuracy: 0.2333 - val_loss: 1.0921 - val_accuracy: 0.3333\n",
            "Epoch 2/10\n",
            "8/8 [==============================] - 44s 5s/step - loss: 1.0556 - accuracy: 0.4917\n",
            "Epoch 3/10\n",
            "8/8 [==============================] - 44s 5s/step - loss: 0.8816 - accuracy: 0.6417\n",
            "Epoch 4/10\n",
            "8/8 [==============================] - 47s 6s/step - loss: 0.5233 - accuracy: 0.8167\n",
            "Epoch 5/10\n",
            "8/8 [==============================] - 44s 5s/step - loss: 0.4397 - accuracy: 0.8833\n",
            "Epoch 6/10\n",
            "8/8 [==============================] - 45s 5s/step - loss: 0.5275 - accuracy: 0.8500\n",
            "Epoch 7/10\n",
            "8/8 [==============================] - 44s 6s/step - loss: 0.3790 - accuracy: 0.8750\n",
            "Epoch 8/10\n",
            "8/8 [==============================] - 44s 5s/step - loss: 0.3119 - accuracy: 0.9083\n",
            "Epoch 9/10\n",
            "8/8 [==============================] - 47s 6s/step - loss: 0.2112 - accuracy: 0.9531\n",
            "Epoch 10/10\n",
            "8/8 [==============================] - 44s 5s/step - loss: 0.3178 - accuracy: 0.9000\n"
          ]
        },
        {
          "output_type": "execute_result",
          "data": {
            "text/plain": [
              "<keras.callbacks.History at 0x7fbffb164ed0>"
            ]
          },
          "metadata": {},
          "execution_count": 9
        }
      ],
      "source": [
        "model.fit(train_data, steps_per_epoch=8, epochs= 10, validation_steps=2,validation_data=test_data)"
      ]
    },
    {
      "cell_type": "code",
      "execution_count": 16,
      "metadata": {
        "id": "-dojA5r8xj96",
        "colab": {
          "base_uri": "https://localhost:8080/"
        },
        "outputId": "5ff10972-73fe-4713-e106-5e8e2860f8c8"
      },
      "outputs": [
        {
          "output_type": "execute_result",
          "data": {
            "text/plain": [
              "(1, 256, 256, 3)"
            ]
          },
          "metadata": {},
          "execution_count": 16
        }
      ],
      "source": [
        "#load unknown image\n",
        "path = \"/content/drive/MyDrive/Colab Notebooks/validation_flowers/525780443_bba812c26a_m.jpg\"\n",
        "img = image.load_img(path, target_size=(256,256))\n",
        "\n",
        "#scale down image\n",
        "img= image.img_to_array(img)/255\n",
        "\n",
        "img= np.array([img])\n",
        "img.shape\n"
      ]
    },
    {
      "cell_type": "code",
      "source": [
        "predictions = (model.predict(img) > 0.7).astype(\"int32\")\n",
        "predictions"
      ],
      "metadata": {
        "colab": {
          "base_uri": "https://localhost:8080/"
        },
        "id": "wEr9YlmQ5xjA",
        "outputId": "3594f514-de90-4c3a-a19a-7d38295dc3b9"
      },
      "execution_count": 17,
      "outputs": [
        {
          "output_type": "execute_result",
          "data": {
            "text/plain": [
              "array([[1, 0, 0]], dtype=int32)"
            ]
          },
          "metadata": {},
          "execution_count": 17
        }
      ]
    },
    {
      "cell_type": "code",
      "source": [
        ""
      ],
      "metadata": {
        "id": "FGBubjerAkdZ"
      },
      "execution_count": null,
      "outputs": []
    }
  ],
  "metadata": {
    "colab": {
      "name": "FLOWER CLASSIFICATION.ipynb",
      "provenance": [],
      "mount_file_id": "1Y3L-NYQ5K4RgQKx4JCZi40raM7cAhdD8",
      "authorship_tag": "ABX9TyMIcCkdLCTWdbZa0cDPdKVj",
      "include_colab_link": true
    },
    "kernelspec": {
      "display_name": "Python 3",
      "name": "python3"
    },
    "language_info": {
      "name": "python"
    }
  },
  "nbformat": 4,
  "nbformat_minor": 0
}