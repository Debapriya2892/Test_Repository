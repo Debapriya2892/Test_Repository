{
  "nbformat": 4,
  "nbformat_minor": 0,
  "metadata": {
    "colab": {
      "name": "DETECTION OF PNEUMONIA II.ipynb",
      "provenance": [],
      "mount_file_id": "104c-wFAWBRdl34_gjhDt52As6OOMJVht",
      "authorship_tag": "ABX9TyPW5QPn7662ofU6KQrQdFSe",
      "include_colab_link": true
    },
    "kernelspec": {
      "name": "python3",
      "display_name": "Python 3"
    },
    "language_info": {
      "name": "python"
    }
  },
  "cells": [
    {
      "cell_type": "markdown",
      "metadata": {
        "id": "view-in-github",
        "colab_type": "text"
      },
      "source": [
        "<a href=\"https://colab.research.google.com/github/Debapriya2892/Test_Repository/blob/main/DETECTION_OF_PNEUMONIA_II.ipynb\" target=\"_parent\"><img src=\"https://colab.research.google.com/assets/colab-badge.svg\" alt=\"Open In Colab\"/></a>"
      ]
    },
    {
      "cell_type": "markdown",
      "source": [
        "**IMPORT LIBRARIES**"
      ],
      "metadata": {
        "id": "TibKyUOFRhC1"
      }
    },
    {
      "cell_type": "code",
      "execution_count": 11,
      "metadata": {
        "id": "MmjGpkiRNlMs"
      },
      "outputs": [],
      "source": [
        "import numpy as np\n",
        "import matplotlib.pyplot as plt\n",
        "import keras\n",
        "from keras.layers import Dense, Conv2D, MaxPool2D, Dropout, Flatten\n",
        "from keras.models import Sequential\n",
        "from keras.preprocessing import image"
      ]
    },
    {
      "cell_type": "markdown",
      "source": [
        "**LOAD DATA**"
      ],
      "metadata": {
        "id": "fNOX0febR-QE"
      }
    },
    {
      "cell_type": "code",
      "source": [
        "train_datagen = image.ImageDataGenerator(rescale=1/255,\n",
        "                                          horizontal_flip=True,\n",
        "                                          zoom_range=0.2, shear_range=0.2)"
      ],
      "metadata": {
        "id": "SU4UcauxOn5t"
      },
      "execution_count": 2,
      "outputs": []
    },
    {
      "cell_type": "code",
      "source": [
        "train_data = train_datagen.flow_from_directory(directory='/content/drive/MyDrive/Colab Notebooks/PNEUMONIA DETECTION/train',\n",
        "                                          target_size=(256,256), batch_size=16, class_mode='binary')"
      ],
      "metadata": {
        "colab": {
          "base_uri": "https://localhost:8080/"
        },
        "id": "GEsuV9QRPbDe",
        "outputId": "9577e3dd-ef54-4724-c13d-765f0e44e0c7"
      },
      "execution_count": 4,
      "outputs": [
        {
          "output_type": "stream",
          "name": "stdout",
          "text": [
            "Found 5216 images belonging to 2 classes.\n"
          ]
        }
      ]
    },
    {
      "cell_type": "code",
      "source": [
        "train_data.class_indices"
      ],
      "metadata": {
        "colab": {
          "base_uri": "https://localhost:8080/"
        },
        "id": "hyhDIRsbQQRP",
        "outputId": "745d62c3-d206-46ff-f7f1-7fbfffd194f7"
      },
      "execution_count": 5,
      "outputs": [
        {
          "output_type": "execute_result",
          "data": {
            "text/plain": [
              "{'NORMAL': 0, 'PNEUMONIA': 1}"
            ]
          },
          "metadata": {},
          "execution_count": 5
        }
      ]
    },
    {
      "cell_type": "code",
      "source": [
        "test_datagen = image.ImageDataGenerator(rescale=1/255)\n",
        "test_data = test_datagen.flow_from_directory(directory='/content/drive/MyDrive/Colab Notebooks/PNEUMONIA DETECTION/test',\n",
        "                                          target_size=(256,256), batch_size=16, class_mode='binary')"
      ],
      "metadata": {
        "colab": {
          "base_uri": "https://localhost:8080/"
        },
        "id": "HhpigAOPQoRr",
        "outputId": "04e68ef1-603d-45c1-d8c1-78b6687f32c3"
      },
      "execution_count": 6,
      "outputs": [
        {
          "output_type": "stream",
          "name": "stdout",
          "text": [
            "Found 624 images belonging to 2 classes.\n"
          ]
        }
      ]
    },
    {
      "cell_type": "markdown",
      "source": [
        "**CNN MODEL**"
      ],
      "metadata": {
        "id": "JlhoPdtRSN2W"
      }
    },
    {
      "cell_type": "code",
      "source": [
        "model = Sequential()\n",
        "\n",
        "model.add(Conv2D(filters=32, kernel_size=(3,3), activation='relu', input_shape=(256,256,3)))\n",
        "\n",
        "model.add(Conv2D(filters=64, kernel_size=(3,3), activation='relu'))\n",
        "model.add(MaxPool2D())\n",
        "model.add(Dropout(rate=0.25))\n",
        "\n",
        "model.add(Conv2D(filters=64, kernel_size=(3,3), activation='relu'))\n",
        "model.add(MaxPool2D())\n",
        "model.add(Dropout(rate=0.25))\n",
        "\n",
        "model.add(Conv2D(filters=128, kernel_size=(3,3), activation='relu'))\n",
        "model.add(MaxPool2D())\n",
        "model.add(Dropout(rate=0.25))\n",
        "\n",
        "model.add(Flatten())\n",
        "model.add(Dense(units=64, activation='relu'))\n",
        "model.add(Dropout(rate=0.50))\n",
        "model.add(Dense(units=1, activation='sigmoid'))\n",
        "\n",
        "model.compile(loss=keras.losses.binary_crossentropy, optimizer='adam', metrics= ['accuracy'])\n",
        "model.summary()\n"
      ],
      "metadata": {
        "colab": {
          "base_uri": "https://localhost:8080/"
        },
        "id": "G9Lp-UeIROWf",
        "outputId": "a41b65ea-7a55-445a-ec0f-e7726b1f22ed"
      },
      "execution_count": 12,
      "outputs": [
        {
          "output_type": "stream",
          "name": "stdout",
          "text": [
            "Model: \"sequential_4\"\n",
            "_________________________________________________________________\n",
            " Layer (type)                Output Shape              Param #   \n",
            "=================================================================\n",
            " conv2d_16 (Conv2D)          (None, 254, 254, 32)      896       \n",
            "                                                                 \n",
            " conv2d_17 (Conv2D)          (None, 252, 252, 64)      18496     \n",
            "                                                                 \n",
            " max_pooling2d_12 (MaxPoolin  (None, 126, 126, 64)     0         \n",
            " g2D)                                                            \n",
            "                                                                 \n",
            " dropout_16 (Dropout)        (None, 126, 126, 64)      0         \n",
            "                                                                 \n",
            " conv2d_18 (Conv2D)          (None, 124, 124, 64)      36928     \n",
            "                                                                 \n",
            " max_pooling2d_13 (MaxPoolin  (None, 62, 62, 64)       0         \n",
            " g2D)                                                            \n",
            "                                                                 \n",
            " dropout_17 (Dropout)        (None, 62, 62, 64)        0         \n",
            "                                                                 \n",
            " conv2d_19 (Conv2D)          (None, 60, 60, 128)       73856     \n",
            "                                                                 \n",
            " max_pooling2d_14 (MaxPoolin  (None, 30, 30, 128)      0         \n",
            " g2D)                                                            \n",
            "                                                                 \n",
            " dropout_18 (Dropout)        (None, 30, 30, 128)       0         \n",
            "                                                                 \n",
            " flatten_4 (Flatten)         (None, 115200)            0         \n",
            "                                                                 \n",
            " dense_8 (Dense)             (None, 64)                7372864   \n",
            "                                                                 \n",
            " dropout_19 (Dropout)        (None, 64)                0         \n",
            "                                                                 \n",
            " dense_9 (Dense)             (None, 1)                 65        \n",
            "                                                                 \n",
            "=================================================================\n",
            "Total params: 7,503,105\n",
            "Trainable params: 7,503,105\n",
            "Non-trainable params: 0\n",
            "_________________________________________________________________\n"
          ]
        }
      ]
    },
    {
      "cell_type": "markdown",
      "source": [
        "**TRAIN MODEL**"
      ],
      "metadata": {
        "id": "XwVsCpsCZ_ye"
      }
    },
    {
      "cell_type": "code",
      "source": [
        "model.fit_generator(train_data, steps_per_epoch=20, epochs= 10, validation_steps=2,\n",
        "                    validation_data=test_data)"
      ],
      "metadata": {
        "colab": {
          "base_uri": "https://localhost:8080/"
        },
        "id": "Etd0g1gBY3V6",
        "outputId": "9c9f5bdc-83fd-478d-fbea-04fecb471f3c"
      },
      "execution_count": 57,
      "outputs": [
        {
          "output_type": "stream",
          "name": "stderr",
          "text": [
            "/usr/local/lib/python3.7/dist-packages/ipykernel_launcher.py:2: UserWarning: `Model.fit_generator` is deprecated and will be removed in a future version. Please use `Model.fit`, which supports generators.\n",
            "  \n"
          ]
        },
        {
          "output_type": "stream",
          "name": "stdout",
          "text": [
            "Epoch 1/10\n",
            "20/20 [==============================] - 129s 6s/step - loss: 0.5035 - accuracy: 0.7188 - val_loss: 0.9538 - val_accuracy: 0.5625\n",
            "Epoch 2/10\n",
            "20/20 [==============================] - 128s 6s/step - loss: 0.4596 - accuracy: 0.7531 - val_loss: 0.7285 - val_accuracy: 0.6250\n",
            "Epoch 3/10\n",
            "20/20 [==============================] - 127s 6s/step - loss: 0.4197 - accuracy: 0.7906 - val_loss: 0.7226 - val_accuracy: 0.7188\n",
            "Epoch 4/10\n",
            "20/20 [==============================] - 127s 6s/step - loss: 0.4959 - accuracy: 0.7781 - val_loss: 0.5528 - val_accuracy: 0.8750\n",
            "Epoch 5/10\n",
            "20/20 [==============================] - 125s 6s/step - loss: 0.4662 - accuracy: 0.7875 - val_loss: 0.4942 - val_accuracy: 0.7812\n",
            "Epoch 6/10\n",
            "20/20 [==============================] - 124s 6s/step - loss: 0.4262 - accuracy: 0.7875 - val_loss: 0.4815 - val_accuracy: 0.6875\n",
            "Epoch 7/10\n",
            "20/20 [==============================] - 125s 6s/step - loss: 0.3496 - accuracy: 0.8313 - val_loss: 0.5591 - val_accuracy: 0.6875\n",
            "Epoch 8/10\n",
            "20/20 [==============================] - 126s 6s/step - loss: 0.3318 - accuracy: 0.8406 - val_loss: 0.5382 - val_accuracy: 0.7188\n",
            "Epoch 9/10\n",
            "20/20 [==============================] - 124s 6s/step - loss: 0.3205 - accuracy: 0.8313 - val_loss: 0.5073 - val_accuracy: 0.6250\n",
            "Epoch 10/10\n",
            "20/20 [==============================] - 124s 6s/step - loss: 0.3942 - accuracy: 0.8375 - val_loss: 0.5116 - val_accuracy: 0.7500\n"
          ]
        },
        {
          "output_type": "execute_result",
          "data": {
            "text/plain": [
              "<keras.callbacks.History at 0x7f2a53a76690>"
            ]
          },
          "metadata": {},
          "execution_count": 57
        }
      ]
    },
    {
      "cell_type": "code",
      "source": [
        ""
      ],
      "metadata": {
        "id": "LStiFBDcaFKq"
      },
      "execution_count": null,
      "outputs": []
    },
    {
      "cell_type": "markdown",
      "source": [
        "**TEST MODEL USING UNKNOWN IMAGE**"
      ],
      "metadata": {
        "id": "xigKF5pzeTUe"
      }
    },
    {
      "cell_type": "code",
      "source": [
        "#load unknown image\n",
        "path = \"/content/drive/MyDrive/Colab Notebooks/PNEUMONIA DETECTION/val/PNEUMONIA/person1952_bacteria_4883.jpeg\"\n",
        "img = image.load_img(path, target_size=(256,256))\n",
        "\n",
        "#scale down image\n",
        "img= image.img_to_array(img)/255\n",
        "\n",
        "img= np.array([img])\n",
        "img.shape\n"
      ],
      "metadata": {
        "colab": {
          "base_uri": "https://localhost:8080/"
        },
        "id": "1tQWs9T7ebWk",
        "outputId": "bad93a41-959c-4132-845c-a0c8f627781a"
      },
      "execution_count": 107,
      "outputs": [
        {
          "output_type": "execute_result",
          "data": {
            "text/plain": [
              "(1, 256, 256, 3)"
            ]
          },
          "metadata": {},
          "execution_count": 107
        }
      ]
    },
    {
      "cell_type": "code",
      "source": [
        "#model.predict_classes(img)\n",
        "#model.predict_class(img)\n",
        "\n",
        "predictions = (model.predict(img) > 0.7).astype(\"int32\")\n",
        "predictions"
      ],
      "metadata": {
        "colab": {
          "base_uri": "https://localhost:8080/"
        },
        "id": "4Dp8dESnfzCH",
        "outputId": "6973a72d-9c01-4384-f446-17e6fc45a681"
      },
      "execution_count": 108,
      "outputs": [
        {
          "output_type": "execute_result",
          "data": {
            "text/plain": [
              "array([[1]], dtype=int32)"
            ]
          },
          "metadata": {},
          "execution_count": 108
        }
      ]
    },
    {
      "cell_type": "code",
      "source": [
        ""
      ],
      "metadata": {
        "id": "Paxn6JEugUJx"
      },
      "execution_count": null,
      "outputs": []
    }
  ]
}